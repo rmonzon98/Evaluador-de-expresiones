{
  "nbformat": 4,
  "nbformat_minor": 0,
  "metadata": {
    "colab": {
      "name": "Evaluador de Expresiones",
      "provenance": [],
      "collapsed_sections": [],
      "authorship_tag": "ABX9TyNd+4t+dn3mtEw3/HxsTDqr",
      "include_colab_link": true
    },
    "kernelspec": {
      "name": "python3",
      "display_name": "Python 3"
    }
  },
  "cells": [
    {
      "cell_type": "markdown",
      "metadata": {
        "id": "view-in-github",
        "colab_type": "text"
      },
      "source": [
        "<a href=\"https://colab.research.google.com/github/rmonzon98/Evaluador-de-expresiones/blob/main/Evaluador_de_Expresiones.ipynb\" target=\"_parent\"><img src=\"https://colab.research.google.com/assets/colab-badge.svg\" alt=\"Open In Colab\"/></a>"
      ]
    },
    {
      "cell_type": "markdown",
      "metadata": {
        "id": "V29rNdJLyp7h"
      },
      "source": [
        "#Evaluador de Expresiones\r\n",
        "---\r\n",
        "Crear un evaluador de expresiones con las siguientes características:\r\n",
        "\r\n",
        "El usuario dará como entrada la expresión aritmética cualquiera\r\n",
        "Una expresión consiste de:\r\n",
        "Números tipo \"double\" (es decir, son posibles números decimales)\r\n",
        "La expresión puede contener paréntesis, con las reglas usuales de agrupación.\r\n",
        "Operadores: +, -, *, /, ^\r\n",
        "Operador ^ es asociativo por la izquierda\r\n",
        "Ejemplos:\r\n",
        "\r\n",
        "(2+3)*(4+ 5.0), salida 45.0\r\n",
        "\r\n",
        "1/3 salida 0.3333333\r\n",
        "\r\n",
        "(2+3)*(4+ 5.0, salida error\r\n",
        "\r\n",
        "Notas:\r\n",
        "\r\n",
        "No debe de utilizarse ninguna biblioteca que separe cadenas en tokens, o que realice la evaluación en si.\r\n",
        "Lenguaje de programación, abierto."
      ]
    },
    {
      "cell_type": "markdown",
      "metadata": {
        "id": "v4-LXbc7y00d"
      },
      "source": [
        "Para resolver este ejercicio se hará una conversión de la expresión ingresa a postfix y seguidamente a esto se evaluara la función\r\n",
        "\r\n",
        "pasos:\r\n",
        "1. leer la expresión de izquierda a derecha y crear mi stack de operadores y de salida para poder convertir la expresión a postfix\r\n",
        "2. Evaluar la función postfix\r\n",
        "\r\n"
      ]
    },
    {
      "cell_type": "code",
      "metadata": {
        "id": "g-chAT0IyXcN"
      },
      "source": [
        "precedence = {'+':1, '-':1, '*':2, '/':2, '^':3} \r\n",
        "\r\n",
        "def esVacio(arreglo):\r\n",
        "  return True if len(arreglo) == 0 else False\r\n",
        "\r\n",
        "def primerElemento(arreglo): \r\n",
        "        return arreglo[0] \r\n",
        "\r\n",
        "def noEsMayor(arreglo,caracter): \r\n",
        "  try: \r\n",
        "    a = precedence[caracter]\r\n",
        "    b = precedence[primerElemento(arreglo)] \r\n",
        "    return True if a  <= b else False\r\n",
        "  except KeyError:\r\n",
        "    return False\r\n",
        "\r\n",
        "def infixaPostfix(exp):\r\n",
        "  \r\n",
        "  caracteresValidos = ['1','2','3','4','5','6','7','8','9','0','.']\r\n",
        "  operadoresValidos =['+','-','*','/','^']\r\n",
        "  \r\n",
        "  salida = []\r\n",
        "  numero = []\r\n",
        "  temp = []\r\n",
        "  for i in exp:\r\n",
        "    #encuentra numero\r\n",
        "    if (i in caracteresValidos):\r\n",
        "      if i == \".\":\r\n",
        "        if i in numero:\r\n",
        "          return \"error\"\r\n",
        "        else:\r\n",
        "          numero.append(i)\r\n",
        "      else:\r\n",
        "        numero.append(i)  \r\n",
        "\r\n",
        "    #Encuentra operador\r\n",
        "    elif (i in operadoresValidos):\r\n",
        "      #agrega numero a la lista de salida\r\n",
        "      if (not esVacio(numero)):\r\n",
        "        numeroDou = \"\"\r\n",
        "        while (len(numero)>0):\r\n",
        "          numeroDou = numeroDou + numero.pop(0)\r\n",
        "        salida.append(float(numeroDou))\r\n",
        "\r\n",
        "      #ordena los operadores\r\n",
        "      while(not esVacio(temp) and noEsMayor(temp,i)): \r\n",
        "        salida.append(temp.pop()) \r\n",
        "      temp.append(i) \r\n",
        "    #Encuentra \"(\"\r\n",
        "    elif i == '(':\r\n",
        "      newTemp = temp\r\n",
        "      temp=[]\r\n",
        "\r\n",
        "    #Encuentra \")\"\r\n",
        "    elif i == ')':\r\n",
        "      if (not esVacio(numero)):\r\n",
        "        numeroDou = \"\"\r\n",
        "        while (len(numero)>0):\r\n",
        "          numeroDou = numeroDou + numero.pop(0)\r\n",
        "        salida.append(float(numeroDou))\r\n",
        "      while( not esVacio(temp) and primerElemento(temp) != '('):\r\n",
        "        a = temp.pop()\r\n",
        "        salida.append(a)   \r\n",
        "      temp.append(newTemp.pop())\r\n",
        "\r\n",
        "    else:\r\n",
        "      return \"Error\"\r\n",
        "  #último número\r\n",
        "  if (not esVacio(numero)):\r\n",
        "        numeroDou = \"\"\r\n",
        "        while (len(numero)>0):\r\n",
        "          numeroDou = numeroDou + numero.pop(0)\r\n",
        "        salida.append(float(numeroDou))\r\n",
        "  #últimos operadores\r\n",
        "  while not esVacio(temp): \r\n",
        "            salida.append(temp.pop())\r\n",
        "  \r\n",
        "\r\n",
        "  return salida\r\n",
        "\r\n",
        "expresion = infixaPostfix (\"2*4-2+5/2\")"
      ],
      "execution_count": null,
      "outputs": []
    },
    {
      "cell_type": "code",
      "metadata": {
        "colab": {
          "base_uri": "https://localhost:8080/"
        },
        "id": "e1MaTYAyeah9",
        "outputId": "ba3cad55-4493-4296-de93-7a86301ed038"
      },
      "source": [
        "def evaluador(expresionPost):\r\n",
        "  temp=[]\r\n",
        "  for i in expresionPost:\r\n",
        "    try: \r\n",
        "      temp.append(float(i))\r\n",
        "    except ValueError:\r\n",
        "      val1 = temp.pop() \r\n",
        "      val2 = temp.pop()\r\n",
        "      switcher ={'+':val2 + val1, '-':val2-val1, '*':val2 * val1, '/':val2 / val1, '^':val2**val1}\r\n",
        "      temp.append(switcher.get(i))\r\n",
        "  return float(temp.pop())\r\n",
        "\r\n",
        "print(\"Expresion en postfix: \", expresion)\r\n",
        "if expresion != \"error\":\r\n",
        "  print(\"El resultado es de: \",evaluador(expresion))"
      ],
      "execution_count": null,
      "outputs": [
        {
          "output_type": "stream",
          "text": [
            "Expresion en postfix:  [2.0, 4.0, '*', 2.0, '-', 5.0, 2.0, '/', '+']\n",
            "El resultado es de:  8.5\n"
          ],
          "name": "stdout"
        }
      ]
    }
  ]
}